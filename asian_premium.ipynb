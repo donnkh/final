{
  "nbformat": 4,
  "nbformat_minor": 0,
  "metadata": {
    "colab": {
      "name": "asian_premium.ipynb",
      "provenance": [],
      "collapsed_sections": [],
      "authorship_tag": "ABX9TyMngv7aMRg9XMgxthLkzdSR",
      "include_colab_link": true
    },
    "kernelspec": {
      "name": "python3",
      "display_name": "Python 3"
    },
    "language_info": {
      "name": "python"
    }
  },
  "cells": [
    {
      "cell_type": "markdown",
      "metadata": {
        "id": "view-in-github",
        "colab_type": "text"
      },
      "source": [
        "<a href=\"https://colab.research.google.com/github/donnkh/final/blob/main/asian_premium.ipynb\" target=\"_parent\"><img src=\"https://colab.research.google.com/assets/colab-badge.svg\" alt=\"Open In Colab\"/></a>"
      ]
    },
    {
      "cell_type": "code",
      "execution_count": 49,
      "metadata": {
        "colab": {
          "base_uri": "https://localhost:8080/",
          "height": 54
        },
        "id": "0-3SqNEWH3rw",
        "outputId": "ecf7c46b-351f-45a7-dc27-0a320198b9d2"
      },
      "outputs": [
        {
          "output_type": "stream",
          "name": "stdout",
          "text": [
            "1\n"
          ]
        },
        {
          "output_type": "execute_result",
          "data": {
            "text/plain": [
              "'01'"
            ],
            "application/vnd.google.colaboratory.intrinsic+json": {
              "type": "string"
            }
          },
          "metadata": {},
          "execution_count": 49
        }
      ],
      "source": [
        "import math \n",
        "import numpy as np\n",
        "def binom_coef(n,k) :\n",
        "  a = math.factorial(n)\n",
        "  b= math.factorial(k)\n",
        "  c = math.factorial(n-k)\n",
        "  return int(a/(b*c))\n",
        "  \n",
        "a =format(1,'b')\n",
        "print(a)\n",
        "a.rjust(2,'0')"
      ]
    },
    {
      "cell_type": "code",
      "source": [
        "S0=100\n",
        "K=100\n",
        "N=30\n",
        "M=1000\n",
        "sig=0.2\n",
        "T=N/365\n",
        "dt=T/N\n",
        "u= np.exp(sig*np.sqrt(dt))\n",
        "print(u)\n",
        "d = 1/ u\n",
        "r = 1\n",
        "q1 = (np.exp(r*dt) - d) / (u - d)\n",
        "q2 = ( u - np.exp(r*dt) ) / (u - d)\n",
        "print(q1)\n",
        "print(q2)"
      ],
      "metadata": {
        "colab": {
          "base_uri": "https://localhost:8080/"
        },
        "id": "P178iJgrK0-r",
        "outputId": "0dbe1b98-93b3-42bd-e2d8-d8c0f90a6ae9"
      },
      "execution_count": 50,
      "outputs": [
        {
          "output_type": "stream",
          "name": "stdout",
          "text": [
            "1.0105234646788943\n",
            "0.6284159102081341\n",
            "0.3715840897918658\n"
          ]
        }
      ]
    },
    {
      "cell_type": "code",
      "source": [
        "#0부터 1023(2^10 - 1 )까지 인덱스로 시나리오를 만든다. 이때 1일차엔 2^1개, 2일차엔 2^2개... N일차엔 2^N개의 시나리오가 들어간다.\n",
        "#그 시나리오마다 각자의 주가경로를 구한다. 그것을 리스트로 저장한다. 이후 마지막기 평균을 구한다. list_n = [u,ud,udd,uddd,,,,] -> avg_n = u+ud+udd+,,,, / 기간\n",
        "#마지막기 평균만 있으면 된다. 왜? 마지막기 평균을 가지고 옵션의 페이오프를 구한뒤 그것을 현가화 시키는 과정이 프라이싱이기 때문."
      ],
      "metadata": {
        "id": "kTOFGZwbH65q"
      },
      "execution_count": 51,
      "outputs": []
    },
    {
      "cell_type": "code",
      "source": [
        "senario_list =[]\n",
        "for i in range(2**N) :\n",
        "  senario_number = (format(i,'b'))\n",
        "  senario_list.append(senario_number.rjust(N,'0'))\n",
        "#s_l에는 0부터 2^^N-1이 이진법으로 들어가있음 ex)001011011 여기서 0은 up, 1은 down으로 생각\n"
      ],
      "metadata": {
        "id": "702HBanXKsR2",
        "colab": {
          "base_uri": "https://localhost:8080/",
          "height": 245
        },
        "outputId": "c9419c9b-42d0-435c-dc15-49adb054d65a"
      },
      "execution_count": 54,
      "outputs": [
        {
          "output_type": "error",
          "ename": "KeyboardInterrupt",
          "evalue": "ignored",
          "traceback": [
            "\u001b[0;31m---------------------------------------------------------------------------\u001b[0m",
            "\u001b[0;31mKeyboardInterrupt\u001b[0m                         Traceback (most recent call last)",
            "\u001b[0;32m<ipython-input-54-cbf70fda6311>\u001b[0m in \u001b[0;36m<module>\u001b[0;34m()\u001b[0m\n\u001b[1;32m      1\u001b[0m \u001b[0msenario_list\u001b[0m \u001b[0;34m=\u001b[0m\u001b[0;34m[\u001b[0m\u001b[0;34m]\u001b[0m\u001b[0;34m\u001b[0m\u001b[0;34m\u001b[0m\u001b[0m\n\u001b[1;32m      2\u001b[0m \u001b[0;32mfor\u001b[0m \u001b[0mi\u001b[0m \u001b[0;32min\u001b[0m \u001b[0mrange\u001b[0m\u001b[0;34m(\u001b[0m\u001b[0;36m2\u001b[0m\u001b[0;34m**\u001b[0m\u001b[0mN\u001b[0m\u001b[0;34m)\u001b[0m \u001b[0;34m:\u001b[0m\u001b[0;34m\u001b[0m\u001b[0;34m\u001b[0m\u001b[0m\n\u001b[0;32m----> 3\u001b[0;31m   \u001b[0msenario_number\u001b[0m \u001b[0;34m=\u001b[0m \u001b[0;34m(\u001b[0m\u001b[0mformat\u001b[0m\u001b[0;34m(\u001b[0m\u001b[0mi\u001b[0m\u001b[0;34m,\u001b[0m\u001b[0;34m'b'\u001b[0m\u001b[0;34m)\u001b[0m\u001b[0;34m)\u001b[0m\u001b[0;34m\u001b[0m\u001b[0;34m\u001b[0m\u001b[0m\n\u001b[0m\u001b[1;32m      4\u001b[0m   \u001b[0msenario_list\u001b[0m\u001b[0;34m.\u001b[0m\u001b[0mappend\u001b[0m\u001b[0;34m(\u001b[0m\u001b[0msenario_number\u001b[0m\u001b[0;34m.\u001b[0m\u001b[0mrjust\u001b[0m\u001b[0;34m(\u001b[0m\u001b[0mN\u001b[0m\u001b[0;34m,\u001b[0m\u001b[0;34m'0'\u001b[0m\u001b[0;34m)\u001b[0m\u001b[0;34m)\u001b[0m\u001b[0;34m\u001b[0m\u001b[0;34m\u001b[0m\u001b[0m\n\u001b[1;32m      5\u001b[0m \u001b[0;31m#s_l에는 0부터 2^^N-1이 이진법으로 들어가있음 ex)001011011 여기서 0은 up, 1은 down으로 생각\u001b[0m\u001b[0;34m\u001b[0m\u001b[0;34m\u001b[0m\u001b[0;34m\u001b[0m\u001b[0m\n",
            "\u001b[0;31mKeyboardInterrupt\u001b[0m: "
          ]
        }
      ]
    },
    {
      "cell_type": "code",
      "source": [
        "print(senario_list[40])"
      ],
      "metadata": {
        "id": "vSHIWUjqha8s",
        "colab": {
          "base_uri": "https://localhost:8080/"
        },
        "outputId": "dd71c4bc-feb7-4585-90a7-ad7df03ec232"
      },
      "execution_count": 48,
      "outputs": [
        {
          "output_type": "stream",
          "name": "stdout",
          "text": [
            "00000000000000101000\n"
          ]
        }
      ]
    },
    {
      "cell_type": "code",
      "source": [
        "def up_down(senario) :\n",
        "  uside = str(senario).count('0')\n",
        "  #print(uside)\n",
        "  dside = str(senario).count('1')\n",
        "  #print(dside)\n",
        "\n",
        "  return S0 * (u**uside) * (d**dside)\n",
        "#0과 1의 개수를 세서 그만큼 u과 d으로 바꾸어 그 날의 주가를 구함"
      ],
      "metadata": {
        "id": "u48GxJZ1K-Hf"
      },
      "execution_count": 37,
      "outputs": []
    },
    {
      "cell_type": "code",
      "source": [
        "def day_slice(senario) :\n",
        "  day_list =[]\n",
        "  for i in range(len(senario)) :\n",
        "    day_list.append(senario[:i+1])\n",
        "\n",
        "  return day_list\n",
        "#시나리오를 1일차,2일차,,,N일차까지 나눈 리스트를 반환"
      ],
      "metadata": {
        "id": "H-oktdz3Qyy1"
      },
      "execution_count": 38,
      "outputs": []
    },
    {
      "cell_type": "code",
      "source": [
        "def day_avg(day_list ) : # 1,2,,,n일차까지의 주가가 들어있는 리스트에서 주가의 합을 n으로 나눈 산술평균을 반환\n",
        "  return sum(day_list) / N\n"
      ],
      "metadata": {
        "id": "MGAGeRNBRJDV"
      },
      "execution_count": 39,
      "outputs": []
    },
    {
      "cell_type": "code",
      "source": [
        "#def day_avg_list(day_list) :\n",
        "#  day_avg_list = []\n",
        "#  for i in range(len(day_list)) :\n",
        "#    day_avg_list.append(day_avg(day_list,i))\n",
        "  \n",
        "#  return day_avg_list\n",
        "      "
      ],
      "metadata": {
        "id": "IPjFt1zDTEHU"
      },
      "execution_count": 40,
      "outputs": []
    },
    {
      "cell_type": "code",
      "source": [
        "def go_past(q1_factor,q2_factor) :\n",
        "  return q1*q1_factor + q2*q2_factor\n"
      ],
      "metadata": {
        "id": "Wl8E0JWHV7Kv"
      },
      "execution_count": 41,
      "outputs": []
    },
    {
      "cell_type": "code",
      "source": [
        "def asian_payoff(S_avg,K) :\n",
        "  return np.max(S_avg-K , 0)"
      ],
      "metadata": {
        "id": "gvGY0fCUW69m"
      },
      "execution_count": 42,
      "outputs": []
    },
    {
      "cell_type": "code",
      "source": [
        "def go_yesterday(value_list) :\n",
        "  result_list =[]\n",
        "  for i in range(int(len(value_list)/2)) :\n",
        "    # 길이가 2의 3승(8)이면 인덱스가 0123 4개로 주어짐. 2*0이랑 2*0+1 / 2*1이랑 2*1+1이랑 /\n",
        "    result_list.append(go_past(value_list[i*2],value_list[i*2+1]))\n",
        "\n",
        "  return result_list \n"
      ],
      "metadata": {
        "id": "I4UzQVP0ZRxx"
      },
      "execution_count": 43,
      "outputs": []
    },
    {
      "cell_type": "code",
      "source": [
        "def binomial_pricing(value_list) :\n",
        "  for i in range(N) :\n",
        "    value_list = go_yesterday(value_list)\n",
        "  return value_list\n"
      ],
      "metadata": {
        "id": "L7_hDYcVbSm4"
      },
      "execution_count": 44,
      "outputs": []
    },
    {
      "cell_type": "code",
      "source": [
        "def asian_premium(senario_list) :\n",
        "  value_list =[]\n",
        "\n",
        "  for i in range(len(senario_list)) :\n",
        "    day_sliced_list = day_slice(senario_list[i])\n",
        "    for j in range(len(day_sliced_list)) :\n",
        "      day_sliced_list[j] = up_down(day_sliced_list[j])\n",
        "    value_list.append(day_avg(day_sliced_list))\n",
        "  \n",
        "  for i in range(len(value_list)) :\n",
        "    value_list[i] = asian_payoff(value_list[i],K)\n",
        "  \n",
        "\n",
        "  value_list = binomial_pricing(value_list)\n",
        "  \n",
        "  return value_list\n",
        "\n",
        "\n",
        "    \n"
      ],
      "metadata": {
        "id": "Z0QWqDfjbWIR"
      },
      "execution_count": 45,
      "outputs": []
    },
    {
      "cell_type": "code",
      "source": [
        "print(asian_premium(senario_list))"
      ],
      "metadata": {
        "colab": {
          "base_uri": "https://localhost:8080/"
        },
        "id": "NtYVEcoqfnav",
        "outputId": "ff81fd95-8f61-42d2-f7e4-ba73d2d3b71d"
      },
      "execution_count": 46,
      "outputs": [
        {
          "output_type": "stream",
          "name": "stdout",
          "text": [
            "[2.9313329004957183]\n"
          ]
        }
      ]
    },
    {
      "cell_type": "code",
      "source": [
        ""
      ],
      "metadata": {
        "id": "RutIzeTtfsR4"
      },
      "execution_count": 46,
      "outputs": []
    }
  ]
}